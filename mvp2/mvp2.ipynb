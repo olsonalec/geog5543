{
 "cells": [
  {
   "cell_type": "markdown",
   "metadata": {
    "id": "ezmlA1aX4qVJ"
   },
   "source": [
    "# Optimizing Election Campaigning Strategy by Locating Persuadable Voters\n",
    "In recent presidential elections, the majority of voters know whom they will vote for months in advance. It is therefore a waste of time and money for candidates to try and persuade these voters to their side. The goal of this project is to find locations where there are many people who are more likely to be persuaded one way or another - people who are open to voting for either candidate. These are the voters that candidates need to reach out to in order to win the election.\n",
    "\n",
    "This MVP will identify precincts in Minnesota where there are relatively large numbers of 'split ticket' ballots. That is, ballots where a voter might have chosen a Republican candidate for president but a Democratic candidate for U.S. House. People who split their ballot are less loyal to a particular party, so they would therefore be more likely to change their mind to support or oppose a political candidate based on that candidate's campaign. These 'split ticket' voters are people whom candidates should target because they are key to winning an election."
   ]
  },
  {
   "cell_type": "markdown",
   "metadata": {
    "id": "orgWUQnJPEcq"
   },
   "source": [
    "#### Install required package and import libraries"
   ]
  },
  {
   "cell_type": "code",
   "execution_count": 11,
   "metadata": {
    "colab": {
     "base_uri": "https://localhost:8080/"
    },
    "id": "On4epH1e-uDf",
    "outputId": "82ca9e69-c8e8-41f7-a591-3c6842e247d7"
   },
   "outputs": [
    {
     "name": "stdout",
     "output_type": "stream",
     "text": [
      "Defaulting to user installation because normal site-packages is not writeable\n",
      "Requirement already satisfied: mapclassify in c:\\users\\adols\\appdata\\local\\packages\\pythonsoftwarefoundation.python.3.12_qbz5n2kfra8p0\\localcache\\local-packages\\python312\\site-packages (2.8.1)\n",
      "Requirement already satisfied: networkx>=2.7 in c:\\users\\adols\\appdata\\local\\packages\\pythonsoftwarefoundation.python.3.12_qbz5n2kfra8p0\\localcache\\local-packages\\python312\\site-packages (from mapclassify) (3.4.2)\n",
      "Requirement already satisfied: numpy>=1.23 in c:\\users\\adols\\appdata\\local\\packages\\pythonsoftwarefoundation.python.3.12_qbz5n2kfra8p0\\localcache\\local-packages\\python312\\site-packages (from mapclassify) (2.0.0)\n",
      "Requirement already satisfied: pandas!=1.5.0,>=1.4 in c:\\users\\adols\\appdata\\local\\packages\\pythonsoftwarefoundation.python.3.12_qbz5n2kfra8p0\\localcache\\local-packages\\python312\\site-packages (from mapclassify) (2.2.3)\n",
      "Requirement already satisfied: scikit-learn>=1.0 in c:\\users\\adols\\appdata\\local\\packages\\pythonsoftwarefoundation.python.3.12_qbz5n2kfra8p0\\localcache\\local-packages\\python312\\site-packages (from mapclassify) (1.5.2)\n",
      "Requirement already satisfied: scipy>=1.8 in c:\\users\\adols\\appdata\\local\\packages\\pythonsoftwarefoundation.python.3.12_qbz5n2kfra8p0\\localcache\\local-packages\\python312\\site-packages (from mapclassify) (1.14.1)\n",
      "Requirement already satisfied: python-dateutil>=2.8.2 in c:\\users\\adols\\appdata\\local\\packages\\pythonsoftwarefoundation.python.3.12_qbz5n2kfra8p0\\localcache\\local-packages\\python312\\site-packages (from pandas!=1.5.0,>=1.4->mapclassify) (2.9.0.post0)\n",
      "Requirement already satisfied: pytz>=2020.1 in c:\\users\\adols\\appdata\\local\\packages\\pythonsoftwarefoundation.python.3.12_qbz5n2kfra8p0\\localcache\\local-packages\\python312\\site-packages (from pandas!=1.5.0,>=1.4->mapclassify) (2024.2)\n",
      "Requirement already satisfied: tzdata>=2022.7 in c:\\users\\adols\\appdata\\local\\packages\\pythonsoftwarefoundation.python.3.12_qbz5n2kfra8p0\\localcache\\local-packages\\python312\\site-packages (from pandas!=1.5.0,>=1.4->mapclassify) (2024.2)\n",
      "Requirement already satisfied: joblib>=1.2.0 in c:\\users\\adols\\appdata\\local\\packages\\pythonsoftwarefoundation.python.3.12_qbz5n2kfra8p0\\localcache\\local-packages\\python312\\site-packages (from scikit-learn>=1.0->mapclassify) (1.4.2)\n",
      "Requirement already satisfied: threadpoolctl>=3.1.0 in c:\\users\\adols\\appdata\\local\\packages\\pythonsoftwarefoundation.python.3.12_qbz5n2kfra8p0\\localcache\\local-packages\\python312\\site-packages (from scikit-learn>=1.0->mapclassify) (3.5.0)\n",
      "Requirement already satisfied: six>=1.5 in c:\\users\\adols\\appdata\\local\\packages\\pythonsoftwarefoundation.python.3.12_qbz5n2kfra8p0\\localcache\\local-packages\\python312\\site-packages (from python-dateutil>=2.8.2->pandas!=1.5.0,>=1.4->mapclassify) (1.16.0)\n"
     ]
    },
    {
     "name": "stderr",
     "output_type": "stream",
     "text": [
      "\n",
      "[notice] A new release of pip is available: 24.2 -> 24.3.1\n",
      "[notice] To update, run: C:\\Users\\adols\\AppData\\Local\\Microsoft\\WindowsApps\\PythonSoftwareFoundation.Python.3.12_qbz5n2kfra8p0\\python.exe -m pip install --upgrade pip\n"
     ]
    }
   ],
   "source": [
    "!pip install mapclassify\n",
    "import pandas as pd\n",
    "import geopandas as gpd\n",
    "from geopandas import GeoDataFrame\n",
    "import numpy as np\n",
    "import mapclassify\n",
    "import csv\n",
    "%matplotlib inline"
   ]
  },
  {
   "cell_type": "markdown",
   "metadata": {
    "id": "wUbsmZff1jel"
   },
   "source": [
    "#### Read MN Precincts GeoJSON file. This file contains the geometries for each precinct in the state of Minnesota, as well as additional information such as which county the precinct is in."
   ]
  },
  {
   "cell_type": "code",
   "execution_count": 12,
   "metadata": {
    "colab": {
     "base_uri": "https://localhost:8080/",
     "height": 206
    },
    "id": "cfALiIAoXmSh",
    "outputId": "cf6a4608-39b6-4915-b9ce-02308167d686"
   },
   "outputs": [
    {
     "data": {
      "text/html": [
       "<div>\n",
       "<style scoped>\n",
       "    .dataframe tbody tr th:only-of-type {\n",
       "        vertical-align: middle;\n",
       "    }\n",
       "\n",
       "    .dataframe tbody tr th {\n",
       "        vertical-align: top;\n",
       "    }\n",
       "\n",
       "    .dataframe thead th {\n",
       "        text-align: right;\n",
       "    }\n",
       "</style>\n",
       "<table border=\"1\" class=\"dataframe\">\n",
       "  <thead>\n",
       "    <tr style=\"text-align: right;\">\n",
       "      <th></th>\n",
       "      <th>Precinct</th>\n",
       "      <th>PrecinctID</th>\n",
       "      <th>County</th>\n",
       "      <th>CountyID</th>\n",
       "      <th>CongDist</th>\n",
       "      <th>MNSenDist</th>\n",
       "      <th>MNLegDist</th>\n",
       "      <th>CtyComDist</th>\n",
       "      <th>geometry</th>\n",
       "    </tr>\n",
       "  </thead>\n",
       "  <tbody>\n",
       "    <tr>\n",
       "      <th>0</th>\n",
       "      <td>Aitkin</td>\n",
       "      <td>270010005</td>\n",
       "      <td>Aitkin</td>\n",
       "      <td>1</td>\n",
       "      <td>8</td>\n",
       "      <td>10</td>\n",
       "      <td>10B</td>\n",
       "      <td>1</td>\n",
       "      <td>POLYGON ((-93.6863 46.5441, -93.6916 46.5441, ...</td>\n",
       "    </tr>\n",
       "    <tr>\n",
       "      <th>1</th>\n",
       "      <td>Aitkin Twp</td>\n",
       "      <td>270010010</td>\n",
       "      <td>Aitkin</td>\n",
       "      <td>1</td>\n",
       "      <td>8</td>\n",
       "      <td>10</td>\n",
       "      <td>10B</td>\n",
       "      <td>1</td>\n",
       "      <td>MULTIPOLYGON (((-93.7052 46.5163, -93.7061 46....</td>\n",
       "    </tr>\n",
       "    <tr>\n",
       "      <th>2</th>\n",
       "      <td>Ball Bluff Twp</td>\n",
       "      <td>270010015</td>\n",
       "      <td>Aitkin</td>\n",
       "      <td>1</td>\n",
       "      <td>8</td>\n",
       "      <td>10</td>\n",
       "      <td>10B</td>\n",
       "      <td>5</td>\n",
       "      <td>POLYGON ((-93.1911 47.0252, -93.2118 47.0255, ...</td>\n",
       "    </tr>\n",
       "    <tr>\n",
       "      <th>3</th>\n",
       "      <td>Balsam Twp</td>\n",
       "      <td>270010020</td>\n",
       "      <td>Aitkin</td>\n",
       "      <td>1</td>\n",
       "      <td>8</td>\n",
       "      <td>10</td>\n",
       "      <td>10B</td>\n",
       "      <td>5</td>\n",
       "      <td>POLYGON ((-93.0598 46.853, -93.081 46.8528, -9...</td>\n",
       "    </tr>\n",
       "    <tr>\n",
       "      <th>4</th>\n",
       "      <td>Beaver Twp</td>\n",
       "      <td>270010025</td>\n",
       "      <td>Aitkin</td>\n",
       "      <td>1</td>\n",
       "      <td>8</td>\n",
       "      <td>10</td>\n",
       "      <td>10B</td>\n",
       "      <td>3</td>\n",
       "      <td>POLYGON ((-93.0551 46.4191, -93.0554 46.4336, ...</td>\n",
       "    </tr>\n",
       "  </tbody>\n",
       "</table>\n",
       "</div>"
      ],
      "text/plain": [
       "         Precinct PrecinctID  County CountyID CongDist MNSenDist MNLegDist  \\\n",
       "0          Aitkin  270010005  Aitkin        1        8        10       10B   \n",
       "1      Aitkin Twp  270010010  Aitkin        1        8        10       10B   \n",
       "2  Ball Bluff Twp  270010015  Aitkin        1        8        10       10B   \n",
       "3      Balsam Twp  270010020  Aitkin        1        8        10       10B   \n",
       "4      Beaver Twp  270010025  Aitkin        1        8        10       10B   \n",
       "\n",
       "  CtyComDist                                           geometry  \n",
       "0          1  POLYGON ((-93.6863 46.5441, -93.6916 46.5441, ...  \n",
       "1          1  MULTIPOLYGON (((-93.7052 46.5163, -93.7061 46....  \n",
       "2          5  POLYGON ((-93.1911 47.0252, -93.2118 47.0255, ...  \n",
       "3          5  POLYGON ((-93.0598 46.853, -93.081 46.8528, -9...  \n",
       "4          3  POLYGON ((-93.0551 46.4191, -93.0554 46.4336, ...  "
      ]
     },
     "execution_count": 12,
     "metadata": {},
     "output_type": "execute_result"
    }
   ],
   "source": [
    "mn_precincts_gdb = gpd.read_file('mn_precincts_2019.json')\n",
    "mn_precincts_gdb.head()"
   ]
  },
  {
   "cell_type": "markdown",
   "metadata": {
    "id": "uoaEuTOo6CR-"
   },
   "source": [
    "#### Function to extract voting information from a csv file"
   ]
  },
  {
   "cell_type": "code",
   "execution_count": 13,
   "metadata": {
    "id": "y_iFLhjb_5xV"
   },
   "outputs": [],
   "source": [
    "'''\n",
    "data is the csv file containing precinct-level voter data\n",
    "gdb is the GeoDataFrame containing precinct geometries\n",
    "list_of_indices contains three elements. These elements contain the column numbers of the csv file that contain:\n",
    "    0) the total number of votes for this race in the precinct\n",
    "    1) the number of Republican votes for this race in the precinct\n",
    "    2) the number of Democratic votes for this race in the precinct\n",
    "\n",
    "return value: a list that contains three lists. Each list is the same length as the GeoDataFrame so that it can be added to the GeoDataFrame.\n",
    "    total_voters_list contains the total number of votes cast in each precinct\n",
    "    pct_rep_votes_list contains the percentage of those votes that were cast for the Republican candidate\n",
    "    pct_dem_votes_list contains the percentage of those votes that were cast for the Democratic candidate\n",
    "'''\n",
    "\n",
    "def create_voter_lists(data, gdb, list_of_indices):\n",
    "  total_voters_list = []\n",
    "  pct_rep_votes_list = []\n",
    "  pct_dem_votes_list = []\n",
    "  for row in gdb.itertuples():     # iterate over each precinct in the GeoDataFrame\n",
    "    precinct_id = row[2]          # extract precinct code\n",
    "    voter_data = False            # use this boolean to speed up the search process\n",
    "    for row in data:              # search the list of voting results to see if this precinct has voter data\n",
    "      if voter_data == False:     # if we have already found voter data (i.e. voter_data == True), we don't need to keep iterating through the list of data\n",
    "        if row[0] == precinct_id:     # if the precinct has voter data, append this data to the 2 lists\n",
    "          total_votes = int(row[list_of_indices[0]])\n",
    "          rep_votes = int(row[list_of_indices[1]])\n",
    "          dem_votes = int(row[list_of_indices[2]])\n",
    "          total_voters_list.append(total_votes)\n",
    "          if total_votes != 0:\n",
    "            pct_rep_votes_list.append((rep_votes / total_votes) * 100)\n",
    "            pct_dem_votes_list.append((dem_votes / total_votes) * 100)\n",
    "          else:\n",
    "            pct_rep_votes_list.append(0)\n",
    "            pct_dem_votes_list.append(0)\n",
    "          voter_data = True\n",
    "    if voter_data == False:       # if there is no voter data available, we need to take note of this\n",
    "      pct_rep_votes_list.append(None)\n",
    "      pct_dem_votes_list.append(None)\n",
    "\n",
    "  return [total_voters_list, pct_rep_votes_list, pct_dem_votes_list]"
   ]
  },
  {
   "cell_type": "markdown",
   "metadata": {
    "id": "z0Bl127PF0Ku"
   },
   "source": [
    "#### Add voting information to each precinct in the GeoDataFrame."
   ]
  },
  {
   "cell_type": "code",
   "execution_count": 14,
   "metadata": {
    "colab": {
     "base_uri": "https://localhost:8080/",
     "height": 539
    },
    "id": "BSSZZ3aqZ6mb",
    "outputId": "07798e9f-054e-4d4d-cc7d-a6e9ea5af802"
   },
   "outputs": [
    {
     "data": {
      "text/html": [
       "<div>\n",
       "<style scoped>\n",
       "    .dataframe tbody tr th:only-of-type {\n",
       "        vertical-align: middle;\n",
       "    }\n",
       "\n",
       "    .dataframe tbody tr th {\n",
       "        vertical-align: top;\n",
       "    }\n",
       "\n",
       "    .dataframe thead th {\n",
       "        text-align: right;\n",
       "    }\n",
       "</style>\n",
       "<table border=\"1\" class=\"dataframe\">\n",
       "  <thead>\n",
       "    <tr style=\"text-align: right;\">\n",
       "      <th></th>\n",
       "      <th>Precinct</th>\n",
       "      <th>PrecinctID</th>\n",
       "      <th>County</th>\n",
       "      <th>CountyID</th>\n",
       "      <th>CongDist</th>\n",
       "      <th>MNSenDist</th>\n",
       "      <th>MNLegDist</th>\n",
       "      <th>CtyComDist</th>\n",
       "      <th>pres_total_votes</th>\n",
       "      <th>pres_pct_rep_votes</th>\n",
       "      <th>pres_pct_dem_votes</th>\n",
       "      <th>sen_total_votes</th>\n",
       "      <th>sen_pct_rep_votes</th>\n",
       "      <th>sen_pct_dem_votes</th>\n",
       "      <th>house_total_votes</th>\n",
       "      <th>house_pct_rep_votes</th>\n",
       "      <th>house_pct_dem_votes</th>\n",
       "      <th>geometry</th>\n",
       "    </tr>\n",
       "  </thead>\n",
       "  <tbody>\n",
       "    <tr>\n",
       "      <th>0</th>\n",
       "      <td>Aitkin</td>\n",
       "      <td>270010005</td>\n",
       "      <td>Aitkin</td>\n",
       "      <td>1</td>\n",
       "      <td>8</td>\n",
       "      <td>10</td>\n",
       "      <td>10B</td>\n",
       "      <td>1</td>\n",
       "      <td>1091</td>\n",
       "      <td>57.378552</td>\n",
       "      <td>40.879927</td>\n",
       "      <td>1067</td>\n",
       "      <td>51.077788</td>\n",
       "      <td>39.456420</td>\n",
       "      <td>1054</td>\n",
       "      <td>55.218216</td>\n",
       "      <td>37.571157</td>\n",
       "      <td>POLYGON ((-93.6863 46.5441, -93.6916 46.5441, ...</td>\n",
       "    </tr>\n",
       "    <tr>\n",
       "      <th>1</th>\n",
       "      <td>Aitkin Twp</td>\n",
       "      <td>270010010</td>\n",
       "      <td>Aitkin</td>\n",
       "      <td>1</td>\n",
       "      <td>8</td>\n",
       "      <td>10</td>\n",
       "      <td>10B</td>\n",
       "      <td>1</td>\n",
       "      <td>576</td>\n",
       "      <td>65.798611</td>\n",
       "      <td>32.465278</td>\n",
       "      <td>566</td>\n",
       "      <td>64.134276</td>\n",
       "      <td>30.212014</td>\n",
       "      <td>564</td>\n",
       "      <td>68.085106</td>\n",
       "      <td>26.595745</td>\n",
       "      <td>MULTIPOLYGON (((-93.7052 46.5163, -93.7061 46....</td>\n",
       "    </tr>\n",
       "    <tr>\n",
       "      <th>2</th>\n",
       "      <td>Ball Bluff Twp</td>\n",
       "      <td>270010015</td>\n",
       "      <td>Aitkin</td>\n",
       "      <td>1</td>\n",
       "      <td>8</td>\n",
       "      <td>10</td>\n",
       "      <td>10B</td>\n",
       "      <td>5</td>\n",
       "      <td>185</td>\n",
       "      <td>57.837838</td>\n",
       "      <td>40.540541</td>\n",
       "      <td>181</td>\n",
       "      <td>52.486188</td>\n",
       "      <td>43.646409</td>\n",
       "      <td>182</td>\n",
       "      <td>57.142857</td>\n",
       "      <td>37.912088</td>\n",
       "      <td>POLYGON ((-93.1911 47.0252, -93.2118 47.0255, ...</td>\n",
       "    </tr>\n",
       "    <tr>\n",
       "      <th>3</th>\n",
       "      <td>Balsam Twp</td>\n",
       "      <td>270010020</td>\n",
       "      <td>Aitkin</td>\n",
       "      <td>1</td>\n",
       "      <td>8</td>\n",
       "      <td>10</td>\n",
       "      <td>10B</td>\n",
       "      <td>5</td>\n",
       "      <td>24</td>\n",
       "      <td>50.000000</td>\n",
       "      <td>45.833333</td>\n",
       "      <td>24</td>\n",
       "      <td>54.166667</td>\n",
       "      <td>45.833333</td>\n",
       "      <td>24</td>\n",
       "      <td>54.166667</td>\n",
       "      <td>45.833333</td>\n",
       "      <td>POLYGON ((-93.0598 46.853, -93.081 46.8528, -9...</td>\n",
       "    </tr>\n",
       "    <tr>\n",
       "      <th>4</th>\n",
       "      <td>Beaver Twp</td>\n",
       "      <td>270010025</td>\n",
       "      <td>Aitkin</td>\n",
       "      <td>1</td>\n",
       "      <td>8</td>\n",
       "      <td>10</td>\n",
       "      <td>10B</td>\n",
       "      <td>3</td>\n",
       "      <td>38</td>\n",
       "      <td>44.736842</td>\n",
       "      <td>52.631579</td>\n",
       "      <td>36</td>\n",
       "      <td>44.444444</td>\n",
       "      <td>55.555556</td>\n",
       "      <td>36</td>\n",
       "      <td>41.666667</td>\n",
       "      <td>52.777778</td>\n",
       "      <td>POLYGON ((-93.0551 46.4191, -93.0554 46.4336, ...</td>\n",
       "    </tr>\n",
       "  </tbody>\n",
       "</table>\n",
       "</div>"
      ],
      "text/plain": [
       "         Precinct PrecinctID  County CountyID CongDist MNSenDist MNLegDist  \\\n",
       "0          Aitkin  270010005  Aitkin        1        8        10       10B   \n",
       "1      Aitkin Twp  270010010  Aitkin        1        8        10       10B   \n",
       "2  Ball Bluff Twp  270010015  Aitkin        1        8        10       10B   \n",
       "3      Balsam Twp  270010020  Aitkin        1        8        10       10B   \n",
       "4      Beaver Twp  270010025  Aitkin        1        8        10       10B   \n",
       "\n",
       "  CtyComDist  pres_total_votes  pres_pct_rep_votes  pres_pct_dem_votes  \\\n",
       "0          1              1091           57.378552           40.879927   \n",
       "1          1               576           65.798611           32.465278   \n",
       "2          5               185           57.837838           40.540541   \n",
       "3          5                24           50.000000           45.833333   \n",
       "4          3                38           44.736842           52.631579   \n",
       "\n",
       "   sen_total_votes  sen_pct_rep_votes  sen_pct_dem_votes  house_total_votes  \\\n",
       "0             1067          51.077788          39.456420               1054   \n",
       "1              566          64.134276          30.212014                564   \n",
       "2              181          52.486188          43.646409                182   \n",
       "3               24          54.166667          45.833333                 24   \n",
       "4               36          44.444444          55.555556                 36   \n",
       "\n",
       "   house_pct_rep_votes  house_pct_dem_votes  \\\n",
       "0            55.218216            37.571157   \n",
       "1            68.085106            26.595745   \n",
       "2            57.142857            37.912088   \n",
       "3            54.166667            45.833333   \n",
       "4            41.666667            52.777778   \n",
       "\n",
       "                                            geometry  \n",
       "0  POLYGON ((-93.6863 46.5441, -93.6916 46.5441, ...  \n",
       "1  MULTIPOLYGON (((-93.7052 46.5163, -93.7061 46....  \n",
       "2  POLYGON ((-93.1911 47.0252, -93.2118 47.0255, ...  \n",
       "3  POLYGON ((-93.0598 46.853, -93.081 46.8528, -9...  \n",
       "4  POLYGON ((-93.0551 46.4191, -93.0554 46.4336, ...  "
      ]
     },
     "execution_count": 14,
     "metadata": {},
     "output_type": "execute_result"
    }
   ],
   "source": [
    "with open('mn_precinct_results_2020.csv', newline='') as csvfile:\n",
    "  mn_precinct_results = csv.reader(csvfile, delimiter=',', quotechar='\"')     # this csv file contains Minnesota's precinct-level results from the 2020 election\n",
    "  next(mn_precinct_results, None)     # skip the header\n",
    "  precinct_data = list(mn_precinct_results)    # convert the csv reader object into a list where each element is itself a list, and the elements of these lists are the columns of the csv files\n",
    "\n",
    "# retrieve info for presidential race and add this data to the GeoDataFrame\n",
    "pres_results_list = create_voter_lists(precinct_data, mn_precincts_gdb, [36, 26, 27])\n",
    "mn_precincts_gdb.insert(8, 'pres_total_votes', pres_results_list[0], True)\n",
    "mn_precincts_gdb.insert(9, 'pres_pct_rep_votes', pres_results_list[1], True)\n",
    "mn_precincts_gdb.insert(10, 'pres_pct_dem_votes', pres_results_list[2], True)\n",
    "\n",
    "# retrieve info for U.S. Senate race and add this data to the GeoDataFrame\n",
    "senate_results_list = create_voter_lists(precinct_data, mn_precincts_gdb, [42, 39, 40])\n",
    "mn_precincts_gdb.insert(11, 'sen_total_votes', senate_results_list[0], True)\n",
    "mn_precincts_gdb.insert(12, 'sen_pct_rep_votes', senate_results_list[1], True)\n",
    "mn_precincts_gdb.insert(13, 'sen_pct_dem_votes', senate_results_list[2], True)\n",
    "\n",
    "# retrieve info for U.S. House races and add this data to the GeoDataFrame\n",
    "house_results_list = create_voter_lists(precinct_data, mn_precincts_gdb, [48, 45, 46])\n",
    "mn_precincts_gdb.insert(14, 'house_total_votes', house_results_list[0], True)\n",
    "mn_precincts_gdb.insert(15, 'house_pct_rep_votes', house_results_list[1], True)\n",
    "mn_precincts_gdb.insert(16, 'house_pct_dem_votes', house_results_list[2], True)\n",
    "\n",
    "mn_precincts_gdb.head()"
   ]
  },
  {
   "cell_type": "markdown",
   "metadata": {
    "id": "12T1EbXw7ePQ"
   },
   "source": [
    "#### Find precincts where there might have been many split ballots, e.g. people might vote for the Republican presidential candidate but also vote for a Democratic candidate for the House\n",
    "\n",
    "To accomplish this, we will calculate a statistical measure for each precinct. The score will be calculated using the following equation, which is a standard method for measuring error. In this case, we are not measuring error but rather the discrepency between how a precinct voted for president vs. how they voted in the U.S. Senate and House races. The equation is `(p - mean(s + h))^2`. `p` is the percentage of the precinct that voted for the Democratic candidate for president, `s` is the percentage of the precinct that voted for the Democratic candidate for Senate, and `h` is the percentage of the precinct that voted for the Democratic candidate for the House. This score measures the squared difference between `p` and the mean of `s` and `h`. Higher scores represent precincts that had a higher percentage of 'split ticket' ballots."
   ]
  },
  {
   "cell_type": "code",
   "execution_count": 15,
   "metadata": {
    "colab": {
     "base_uri": "https://localhost:8080/",
     "height": 539
    },
    "id": "HCHzveJHXkri",
    "outputId": "9411274d-8f6b-4960-9912-20e8776fa296"
   },
   "outputs": [
    {
     "data": {
      "text/html": [
       "<div>\n",
       "<style scoped>\n",
       "    .dataframe tbody tr th:only-of-type {\n",
       "        vertical-align: middle;\n",
       "    }\n",
       "\n",
       "    .dataframe tbody tr th {\n",
       "        vertical-align: top;\n",
       "    }\n",
       "\n",
       "    .dataframe thead th {\n",
       "        text-align: right;\n",
       "    }\n",
       "</style>\n",
       "<table border=\"1\" class=\"dataframe\">\n",
       "  <thead>\n",
       "    <tr style=\"text-align: right;\">\n",
       "      <th></th>\n",
       "      <th>Precinct</th>\n",
       "      <th>PrecinctID</th>\n",
       "      <th>County</th>\n",
       "      <th>CountyID</th>\n",
       "      <th>CongDist</th>\n",
       "      <th>MNSenDist</th>\n",
       "      <th>MNLegDist</th>\n",
       "      <th>CtyComDist</th>\n",
       "      <th>pres_total_votes</th>\n",
       "      <th>pres_pct_rep_votes</th>\n",
       "      <th>pres_pct_dem_votes</th>\n",
       "      <th>sen_total_votes</th>\n",
       "      <th>sen_pct_rep_votes</th>\n",
       "      <th>sen_pct_dem_votes</th>\n",
       "      <th>house_total_votes</th>\n",
       "      <th>house_pct_rep_votes</th>\n",
       "      <th>house_pct_dem_votes</th>\n",
       "      <th>squared_differences</th>\n",
       "      <th>geometry</th>\n",
       "    </tr>\n",
       "  </thead>\n",
       "  <tbody>\n",
       "    <tr>\n",
       "      <th>0</th>\n",
       "      <td>Aitkin</td>\n",
       "      <td>270010005</td>\n",
       "      <td>Aitkin</td>\n",
       "      <td>1</td>\n",
       "      <td>8</td>\n",
       "      <td>10</td>\n",
       "      <td>10B</td>\n",
       "      <td>1</td>\n",
       "      <td>1091</td>\n",
       "      <td>57.378552</td>\n",
       "      <td>40.879927</td>\n",
       "      <td>1067</td>\n",
       "      <td>51.077788</td>\n",
       "      <td>39.456420</td>\n",
       "      <td>1054</td>\n",
       "      <td>55.218216</td>\n",
       "      <td>37.571157</td>\n",
       "      <td>5.598609</td>\n",
       "      <td>POLYGON ((-93.6863 46.5441, -93.6916 46.5441, ...</td>\n",
       "    </tr>\n",
       "    <tr>\n",
       "      <th>1</th>\n",
       "      <td>Aitkin Twp</td>\n",
       "      <td>270010010</td>\n",
       "      <td>Aitkin</td>\n",
       "      <td>1</td>\n",
       "      <td>8</td>\n",
       "      <td>10</td>\n",
       "      <td>10B</td>\n",
       "      <td>1</td>\n",
       "      <td>576</td>\n",
       "      <td>65.798611</td>\n",
       "      <td>32.465278</td>\n",
       "      <td>566</td>\n",
       "      <td>64.134276</td>\n",
       "      <td>30.212014</td>\n",
       "      <td>564</td>\n",
       "      <td>68.085106</td>\n",
       "      <td>26.595745</td>\n",
       "      <td>16.494957</td>\n",
       "      <td>MULTIPOLYGON (((-93.7052 46.5163, -93.7061 46....</td>\n",
       "    </tr>\n",
       "    <tr>\n",
       "      <th>2</th>\n",
       "      <td>Ball Bluff Twp</td>\n",
       "      <td>270010015</td>\n",
       "      <td>Aitkin</td>\n",
       "      <td>1</td>\n",
       "      <td>8</td>\n",
       "      <td>10</td>\n",
       "      <td>10B</td>\n",
       "      <td>5</td>\n",
       "      <td>185</td>\n",
       "      <td>57.837838</td>\n",
       "      <td>40.540541</td>\n",
       "      <td>181</td>\n",
       "      <td>52.486188</td>\n",
       "      <td>43.646409</td>\n",
       "      <td>182</td>\n",
       "      <td>57.142857</td>\n",
       "      <td>37.912088</td>\n",
       "      <td>0.056981</td>\n",
       "      <td>POLYGON ((-93.1911 47.0252, -93.2118 47.0255, ...</td>\n",
       "    </tr>\n",
       "    <tr>\n",
       "      <th>3</th>\n",
       "      <td>Balsam Twp</td>\n",
       "      <td>270010020</td>\n",
       "      <td>Aitkin</td>\n",
       "      <td>1</td>\n",
       "      <td>8</td>\n",
       "      <td>10</td>\n",
       "      <td>10B</td>\n",
       "      <td>5</td>\n",
       "      <td>24</td>\n",
       "      <td>50.000000</td>\n",
       "      <td>45.833333</td>\n",
       "      <td>24</td>\n",
       "      <td>54.166667</td>\n",
       "      <td>45.833333</td>\n",
       "      <td>24</td>\n",
       "      <td>54.166667</td>\n",
       "      <td>45.833333</td>\n",
       "      <td>0.000000</td>\n",
       "      <td>POLYGON ((-93.0598 46.853, -93.081 46.8528, -9...</td>\n",
       "    </tr>\n",
       "    <tr>\n",
       "      <th>4</th>\n",
       "      <td>Beaver Twp</td>\n",
       "      <td>270010025</td>\n",
       "      <td>Aitkin</td>\n",
       "      <td>1</td>\n",
       "      <td>8</td>\n",
       "      <td>10</td>\n",
       "      <td>10B</td>\n",
       "      <td>3</td>\n",
       "      <td>38</td>\n",
       "      <td>44.736842</td>\n",
       "      <td>52.631579</td>\n",
       "      <td>36</td>\n",
       "      <td>44.444444</td>\n",
       "      <td>55.555556</td>\n",
       "      <td>36</td>\n",
       "      <td>41.666667</td>\n",
       "      <td>52.777778</td>\n",
       "      <td>2.356494</td>\n",
       "      <td>POLYGON ((-93.0551 46.4191, -93.0554 46.4336, ...</td>\n",
       "    </tr>\n",
       "  </tbody>\n",
       "</table>\n",
       "</div>"
      ],
      "text/plain": [
       "         Precinct PrecinctID  County CountyID CongDist MNSenDist MNLegDist  \\\n",
       "0          Aitkin  270010005  Aitkin        1        8        10       10B   \n",
       "1      Aitkin Twp  270010010  Aitkin        1        8        10       10B   \n",
       "2  Ball Bluff Twp  270010015  Aitkin        1        8        10       10B   \n",
       "3      Balsam Twp  270010020  Aitkin        1        8        10       10B   \n",
       "4      Beaver Twp  270010025  Aitkin        1        8        10       10B   \n",
       "\n",
       "  CtyComDist  pres_total_votes  pres_pct_rep_votes  pres_pct_dem_votes  \\\n",
       "0          1              1091           57.378552           40.879927   \n",
       "1          1               576           65.798611           32.465278   \n",
       "2          5               185           57.837838           40.540541   \n",
       "3          5                24           50.000000           45.833333   \n",
       "4          3                38           44.736842           52.631579   \n",
       "\n",
       "   sen_total_votes  sen_pct_rep_votes  sen_pct_dem_votes  house_total_votes  \\\n",
       "0             1067          51.077788          39.456420               1054   \n",
       "1              566          64.134276          30.212014                564   \n",
       "2              181          52.486188          43.646409                182   \n",
       "3               24          54.166667          45.833333                 24   \n",
       "4               36          44.444444          55.555556                 36   \n",
       "\n",
       "   house_pct_rep_votes  house_pct_dem_votes  squared_differences  \\\n",
       "0            55.218216            37.571157             5.598609   \n",
       "1            68.085106            26.595745            16.494957   \n",
       "2            57.142857            37.912088             0.056981   \n",
       "3            54.166667            45.833333             0.000000   \n",
       "4            41.666667            52.777778             2.356494   \n",
       "\n",
       "                                            geometry  \n",
       "0  POLYGON ((-93.6863 46.5441, -93.6916 46.5441, ...  \n",
       "1  MULTIPOLYGON (((-93.7052 46.5163, -93.7061 46....  \n",
       "2  POLYGON ((-93.1911 47.0252, -93.2118 47.0255, ...  \n",
       "3  POLYGON ((-93.0598 46.853, -93.081 46.8528, -9...  \n",
       "4  POLYGON ((-93.0551 46.4191, -93.0554 46.4336, ...  "
      ]
     },
     "execution_count": 15,
     "metadata": {},
     "output_type": "execute_result"
    }
   ],
   "source": [
    "squared_diff_list = []   # list to append to the GeoDataFrame; this list contains the squared differences\n",
    "analysis_list = []  # list on which to run analysis; each element is a list of three values - the squared differences, the county name where the precinct is located, and the total number of votes cast in the Presidential race in that precinct\n",
    "for index, row in mn_precincts_gdb.iterrows():\n",
    "  avg_dem_congress_vote = (row['sen_pct_dem_votes'] + row['house_pct_dem_votes']) / 2\n",
    "  squared_diff = (row['pres_pct_dem_votes'] - avg_dem_congress_vote) ** 2\n",
    "  squared_diff_list.append(squared_diff)\n",
    "  analysis_list.append([squared_diff, row['County'], row['pres_total_votes']])\n",
    "\n",
    "\n",
    "mn_precincts_gdb.insert(17, \"squared_differences\", squared_diff_list, True)\n",
    "mn_precincts_gdb.head()"
   ]
  },
  {
   "cell_type": "markdown",
   "metadata": {
    "id": "KZ15sA8Q-Pzw"
   },
   "source": [
    "#### Select the precincts in the top 20% for their squared difference score. These precincts have the highest percentage of 'split ticket' ballots."
   ]
  },
  {
   "cell_type": "code",
   "execution_count": 16,
   "metadata": {
    "id": "dyhyocT6LQ-l"
   },
   "outputs": [],
   "source": [
    "twenty_pct = round(len(analysis_list) / 5)      # calculate the number of precincts to select - in this case, 20% of the total number of precincts in MN\n",
    "analysis_list.sort()                            # sort the list in ascending order by squared difference\n",
    "twenty_pct_list = analysis_list[-twenty_pct:]   # select the top 20% of the precincts with regards to squared difference"
   ]
  },
  {
   "cell_type": "markdown",
   "metadata": {
    "id": "VhQLltJN_I1f"
   },
   "source": [
    "#### Precincts are small. Candidates should spend their time in counties that contain lots of precincts of interest. If a county just has 1 or 2 precincts with many 'split ticket' voters, it may not be worth it for the candidate to spend a lot of time there. Rather, they want to travel to locations where there are lots of these precincts.\n",
    "\n",
    "Find the counties in Minnesota that contain the highest number of voters who live in these 'split ticket' precincts. Candidates should spend their time in these counties to maximize the number of 'split ticket' voters that they can interact with. Now, not everyone in these precincts is persuadable. Rather, these counties contain higher quantities of persuadable voters in total, even if these voters are thoroughly mixed in with already-decided voters."
   ]
  },
  {
   "cell_type": "code",
   "execution_count": 17,
   "metadata": {
    "id": "ntkTKYy5dRPx"
   },
   "outputs": [],
   "source": [
    "county_dict = {}                # each key is a county, and the values are the number of voters who live in precincts in these counties that have been identified above as high 'split ticket' precincts\n",
    "for row in twenty_pct_list:\n",
    "  county = row[1]\n",
    "  total_votes = row[2]\n",
    "  if county in county_dict:\n",
    "    county_dict[county] += total_votes\n",
    "  else:\n",
    "    county_dict[county] = total_votes"
   ]
  },
  {
   "cell_type": "markdown",
   "metadata": {
    "id": "wtYfSsShASV5"
   },
   "source": [
    "##### Turn the county dictionary into a list so that it can be sorted. Then, extract the top 10 counties from this dictionary with regards to the number of voters who live in high 'split ticket' precincts within these counties."
   ]
  },
  {
   "cell_type": "code",
   "execution_count": 18,
   "metadata": {
    "colab": {
     "base_uri": "https://localhost:8080/"
    },
    "id": "mTGTfyAofo20",
    "outputId": "f39147ac-2b34-41dc-a1e3-e4229e08866f"
   },
   "outputs": [
    {
     "name": "stdout",
     "output_type": "stream",
     "text": [
      "Hennepin county has 362803 voters who live in high 'split ticket' precincts.\n",
      "Ramsey county has 39574 voters who live in high 'split ticket' precincts.\n",
      "Anoka county has 32913 voters who live in high 'split ticket' precincts.\n",
      "St. Louis county has 17130 voters who live in high 'split ticket' precincts.\n",
      "Dakota county has 4240 voters who live in high 'split ticket' precincts.\n",
      "Polk county has 4141 voters who live in high 'split ticket' precincts.\n",
      "Beltrami county has 4054 voters who live in high 'split ticket' precincts.\n",
      "Marshall county has 3848 voters who live in high 'split ticket' precincts.\n",
      "Renville county has 2925 voters who live in high 'split ticket' precincts.\n",
      "Stearns county has 2889 voters who live in high 'split ticket' precincts.\n"
     ]
    }
   ],
   "source": [
    "county_list = []\n",
    "for key, value in county_dict.items():\n",
    "  county_list.append([value, key])\n",
    "county_list.sort()\n",
    "for i in range(len(county_list) - 1, len(county_list) - 11, -1):\n",
    "  print(f'{county_list[i][1]} county has {county_list[i][0]} voters who live in high \\'split ticket\\' precincts.')"
   ]
  },
  {
   "cell_type": "code",
   "execution_count": 19,
   "metadata": {
    "colab": {
     "base_uri": "https://localhost:8080/",
     "height": 447
    },
    "id": "3sZfRitMbbdd",
    "outputId": "505036d3-2cd0-44cb-e49b-3a5c323a965a"
   },
   "outputs": [
    {
     "data": {
      "text/plain": [
       "<Axes: >"
      ]
     },
     "execution_count": 19,
     "metadata": {},
     "output_type": "execute_result"
    },
    {
     "data": {
      "image/png": "[encoded data removed]",
      "text/plain": [
       "<Figure size 640x480 with 1 Axes>"
      ]
     },
     "metadata": {},
     "output_type": "display_data"
    }
   ],
   "source": [
    "mn_precincts_gdb.plot(column='squared_differences', scheme='Quantiles', k=10, legend=True)"
   ]
  },
  {
   "cell_type": "markdown",
   "metadata": {
    "id": "2yoE8B1FBSuy"
   },
   "source": [
    "This notebook represents an MVP of my project for many reasons. For one, it only analyzes Minnesota. Presidential candidates are obviously interested in the entire U.S., but analyzing the entire country would have been too much for this MVP. Additionally, there are many other factors besides 'split ticket' voters that determine if someone is willing to vote for either candidate. Another big indicator of this is how many people are registered as Democratic voters vs. Republican voters vs. independent voters. People are not registered with a specific party are of high interest to presidential candidates, but my MVP did not look at these people. However, my MVP did provide a start towards the robust solution for this project, and with more time to analyze the entire country and more variables, it would be possible to create a more detailed guide for candidates on where they would be best suited to spend their time campaigning."
   ]
  },
  {
   "cell_type": "markdown",
   "metadata": {
    "id": "CjoumDBqGLxg"
   },
   "source": [
    "#### Credits\n",
    "\n",
    "2020 Presidential election results by precinct in Minnesota:\n",
    "https://www.sos.state.mn.us/elections-voting/election-results/2020/2020-general-election-results/2020-precinct-results-spreadsheet/\n",
    "\n",
    "2019 Minnesota voting precincts GeoJSON (I had to use Web Archive because the current GeoJSON file available on the MN Secretary of State’s website has 2024 precincts, some of which have changed since 2020):\n",
    "https://web.archive.org/web/20210510102449/https://www.sos.state.mn.us/media/2791/mn-precincts.json\n"
   ]
  }
 ],
 "metadata": {
  "colab": {
   "provenance": []
  },
  "kernelspec": {
   "display_name": "Python 3",
   "name": "python3"
  },
  "language_info": {
   "codemirror_mode": {
    "name": "ipython",
    "version": 3
   },
   "file_extension": ".py",
   "mimetype": "text/x-python",
   "name": "python",
   "nbconvert_exporter": "python",
   "pygments_lexer": "ipython3",
   "version": "3.12.7"
  }
 },
 "nbformat": 4,
 "nbformat_minor": 0
}
